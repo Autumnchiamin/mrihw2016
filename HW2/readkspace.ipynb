{
 "cells": [
  {
   "cell_type": "code",
   "execution_count": 2,
   "metadata": {
    "collapsed": true
   },
   "outputs": [],
   "source": [
    "import scipy.io\n",
    "#import matplotlib.pyplot as plt\n",
    "mat = scipy.io.loadmat('kspace.mat')"
   ]
  },
  {
   "cell_type": "code",
   "execution_count": 3,
   "metadata": {
    "collapsed": false
   },
   "outputs": [
    {
     "data": {
      "text/plain": [
       "{'__globals__': [],\n",
       " '__header__': b'MATLAB 5.0 MAT-file, Platform: GLNXA64, Created on: Tue Nov  1 17:19:12 2016',\n",
       " '__version__': '1.0',\n",
       " 'kspace': array([[  1454.29181480 +1870.9887991j ,    933.72773996 -2446.10602965j,\n",
       "           8418.14639662 +4240.32520849j, ...,\n",
       "         -15659.50817060 +7490.0822364j ,   3488.40585679 -1929.7382686j ,\n",
       "           2312.25249645 -1727.29549585j],\n",
       "        [  -780.31954392 -1151.59466203j,   1037.26858201  +128.29315593j,\n",
       "          -8546.55394797-12890.03827415j, ...,\n",
       "          13446.77815570 -8188.4921244j ,  -7262.26568345 +5744.41564604j,\n",
       "          -4569.26800922+10697.27692083j],\n",
       "        [  5322.68433680  +969.1324777j ,    354.25321264 +1033.2200393j ,\n",
       "          21277.27401925+12220.59556563j, ...,\n",
       "         -23036.62000417+13198.80654963j, -16205.74158736+16841.03336478j,\n",
       "           7730.56234663-15914.43635919j],\n",
       "        ..., \n",
       "        [  1336.90749128 -6633.05069609j,  -7023.27399538  -902.47421332j,\n",
       "         -15240.75214627   -81.63727825j, ...,\n",
       "          42623.76146266-22464.68244534j,   1064.15333774-35580.54882213j,\n",
       "         -17720.11421753 -2112.28062767j],\n",
       "        [   551.02437551 +3908.3596723j ,    482.15491653 -7416.26360551j,\n",
       "            804.76532646 -2748.34571804j, ...,\n",
       "           8189.64674270+38794.33053253j,    -88.77290766 -7072.76790368j,\n",
       "          -5520.60004577 +5498.46024542j],\n",
       "        [ -2075.92302113 -3475.64500181j,   -682.95933012 +1028.86962549j,\n",
       "          -9171.68426148 -7508.78715629j, ...,\n",
       "          14651.73507448-26217.85131036j,  -5094.41974165+11034.10545462j,\n",
       "          -4572.68445414 -3003.42243298j]])}"
      ]
     },
     "execution_count": 3,
     "metadata": {},
     "output_type": "execute_result"
    }
   ],
   "source": [
    "mat"
   ]
  },
  {
   "cell_type": "code",
   "execution_count": 5,
   "metadata": {
    "collapsed": false
   },
   "outputs": [],
   "source": [
    "d=mat['kspace']"
   ]
  },
  {
   "cell_type": "code",
   "execution_count": 8,
   "metadata": {
    "collapsed": false
   },
   "outputs": [
    {
     "data": {
      "text/plain": [
       "<matplotlib.image.AxesImage at 0x11cedb560f0>"
      ]
     },
     "execution_count": 8,
     "metadata": {},
     "output_type": "execute_result"
    },
    {
     "data": {
      "image/png": "[encoded data removed]",
      "text/plain": [
       "<matplotlib.figure.Figure at 0x11cedae91d0>"
      ]
     },
     "metadata": {},
     "output_type": "display_data"
    }
   ],
   "source": [
    "%matplotlib inline\n",
    "import numpy as np\n",
    "import matplotlib.pyplot as plt\n",
    "plt.imshow(np.abs(d))"
   ]
  },
  {
   "cell_type": "code",
   "execution_count": null,
   "metadata": {
    "collapsed": true
   },
   "outputs": [],
   "source": []
  }
 ],
 "metadata": {
  "kernelspec": {
   "display_name": "Python [Root]",
   "language": "python",
   "name": "Python [Root]"
  },
  "language_info": {
   "codemirror_mode": {
    "name": "ipython",
    "version": 3
   },
   "file_extension": ".py",
   "mimetype": "text/x-python",
   "name": "python",
   "nbconvert_exporter": "python",
   "pygments_lexer": "ipython3",
   "version": "3.5.2"
  }
 },
 "nbformat": 4,
 "nbformat_minor": 0
}
